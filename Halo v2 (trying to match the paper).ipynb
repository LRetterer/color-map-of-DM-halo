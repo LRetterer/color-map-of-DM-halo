{
 "cells": [
  {
   "cell_type": "code",
   "execution_count": 1,
   "metadata": {},
   "outputs": [
    {
     "ename": "ModuleNotFoundError",
     "evalue": "No module named 'pynbody'",
     "output_type": "error",
     "traceback": [
      "\u001b[0;31m---------------------------------------------------------------------------\u001b[0m",
      "\u001b[0;31mModuleNotFoundError\u001b[0m                       Traceback (most recent call last)",
      "Cell \u001b[0;32mIn[1], line 4\u001b[0m\n\u001b[1;32m      2\u001b[0m \u001b[38;5;28;01mimport\u001b[39;00m \u001b[38;5;21;01mpickle\u001b[39;00m\n\u001b[1;32m      3\u001b[0m \u001b[38;5;28;01mimport\u001b[39;00m \u001b[38;5;21;01mnumpy\u001b[39;00m \u001b[38;5;28;01mas\u001b[39;00m \u001b[38;5;21;01mnp\u001b[39;00m\n\u001b[0;32m----> 4\u001b[0m \u001b[38;5;28;01mimport\u001b[39;00m \u001b[38;5;21;01mpynbody\u001b[39;00m\n\u001b[1;32m      5\u001b[0m \u001b[38;5;28;01mimport\u001b[39;00m \u001b[38;5;21;01mmeshoid\u001b[39;00m\n\u001b[1;32m      6\u001b[0m \u001b[38;5;28;01mfrom\u001b[39;00m \u001b[38;5;21;01mmeshoid\u001b[39;00m \u001b[38;5;28;01mimport\u001b[39;00m Meshoid\n",
      "\u001b[0;31mModuleNotFoundError\u001b[0m: No module named 'pynbody'"
     ]
    }
   ],
   "source": [
    "import sys\n",
    "import pickle\n",
    "import numpy as np\n",
    "import pynbody\n",
    "import meshoid\n",
    "from meshoid import Meshoid\n",
    "from helpers.SimulationAnalysis import readHlist\n",
    "import matplotlib.pyplot as plt\n",
    "import seaborn as sns\n",
    "import matplotlib as mpl\n",
    "import matplotlib.colors as colors\n",
    "# plt.rc(\"text\", usetex=True)\n",
    "%matplotlib inline\n",
    "%config InlineBackend.figure_format='retina'\n",
    "%config InlineBackend.rc = {'figure.facecolor': 'w'}\n",
    "sns.set_style(\"ticks\")"
   ]
  },
  {
   "cell_type": "code",
   "execution_count": 3,
   "metadata": {},
   "outputs": [],
   "source": [
    "def subselect_particles(f,host,distance_cut=1.5,projection_thickness=2.,Mpc_to_kpc=1000.):\n",
    "    \"\"\"\n",
    "    Return particles within a radius of {distance_cut} kpc and a z-distance of +/-{projection_thickness} Mpc/h \n",
    "    from the host halo center\n",
    "    \n",
    "    Args:\n",
    "        f (dictionary of pynbody objects): particle data at snapshot(s)\n",
    "        host_halo (Rockstar object): host halo information\n",
    "        distance_cut (float): radial distance from center of host to subselect, in kpc\n",
    "        projection_thickness (float): absolute z-distance to subselect, in Mpc/h\n",
    "        \n",
    "    Returns:\n",
    "        f_short (pynbody object): subselected particle data at snapshot(s)\n",
    "    \"\"\"\n",
    "    \n",
    "    xdist = f['pos'][:,0]-host['x']\n",
    "    ydist = f['pos'][:,1]-host['y']\n",
    "    zdist = f['pos'][:,2]-host['z']\n",
    "    dist = Mpc_to_kpc*np.sqrt(xdist**2+ydist**2+zdist**2)/host['rvir']\n",
    "    f_short = f[(dist<distance_cut)]# & (np.abs(zdist)<projection_thickness)]\n",
    "        \n",
    "    return f_short"
   ]
  },
  {
   "cell_type": "code",
   "execution_count": 4,
   "metadata": {},
   "outputs": [
    {
     "ename": "FileNotFoundError",
     "evalue": "[Errno 2] No such file or directory: 'Halo004/sim_data.bin'",
     "output_type": "error",
     "traceback": [
      "\u001b[0;31m---------------------------------------------------------------------------\u001b[0m",
      "\u001b[0;31mFileNotFoundError\u001b[0m                         Traceback (most recent call last)",
      "Cell \u001b[0;32mIn[4], line 1\u001b[0m\n\u001b[0;32m----> 1\u001b[0m \u001b[38;5;28;01mwith\u001b[39;00m \u001b[38;5;28mopen\u001b[39m(\u001b[38;5;124m\"\u001b[39m\u001b[38;5;124mHalo004/sim_data.bin\u001b[39m\u001b[38;5;124m\"\u001b[39m, \u001b[38;5;124m\"\u001b[39m\u001b[38;5;124mrb\u001b[39m\u001b[38;5;124m\"\u001b[39m) \u001b[38;5;28;01mas\u001b[39;00m f:\n\u001b[1;32m      2\u001b[0m     sim_data \u001b[38;5;241m=\u001b[39m pickle\u001b[38;5;241m.\u001b[39mload(f, encoding\u001b[38;5;241m=\u001b[39m\u001b[38;5;124m'\u001b[39m\u001b[38;5;124mlatin1\u001b[39m\u001b[38;5;124m'\u001b[39m)\n\u001b[1;32m      4\u001b[0m \u001b[38;5;28;01mwith\u001b[39;00m \u001b[38;5;28mopen\u001b[39m(\u001b[38;5;124m\"\u001b[39m\u001b[38;5;124mHalo004/sim_data_16K.bin\u001b[39m\u001b[38;5;124m\"\u001b[39m, \u001b[38;5;124m\"\u001b[39m\u001b[38;5;124mrb\u001b[39m\u001b[38;5;124m\"\u001b[39m) \u001b[38;5;28;01mas\u001b[39;00m f:\n",
      "File \u001b[0;32m/opt/anaconda3/lib/python3.12/site-packages/IPython/core/interactiveshell.py:324\u001b[0m, in \u001b[0;36m_modified_open\u001b[0;34m(file, *args, **kwargs)\u001b[0m\n\u001b[1;32m    317\u001b[0m \u001b[38;5;28;01mif\u001b[39;00m file \u001b[38;5;129;01min\u001b[39;00m {\u001b[38;5;241m0\u001b[39m, \u001b[38;5;241m1\u001b[39m, \u001b[38;5;241m2\u001b[39m}:\n\u001b[1;32m    318\u001b[0m     \u001b[38;5;28;01mraise\u001b[39;00m \u001b[38;5;167;01mValueError\u001b[39;00m(\n\u001b[1;32m    319\u001b[0m         \u001b[38;5;124mf\u001b[39m\u001b[38;5;124m\"\u001b[39m\u001b[38;5;124mIPython won\u001b[39m\u001b[38;5;124m'\u001b[39m\u001b[38;5;124mt let you open fd=\u001b[39m\u001b[38;5;132;01m{\u001b[39;00mfile\u001b[38;5;132;01m}\u001b[39;00m\u001b[38;5;124m by default \u001b[39m\u001b[38;5;124m\"\u001b[39m\n\u001b[1;32m    320\u001b[0m         \u001b[38;5;124m\"\u001b[39m\u001b[38;5;124mas it is likely to crash IPython. If you know what you are doing, \u001b[39m\u001b[38;5;124m\"\u001b[39m\n\u001b[1;32m    321\u001b[0m         \u001b[38;5;124m\"\u001b[39m\u001b[38;5;124myou can use builtins\u001b[39m\u001b[38;5;124m'\u001b[39m\u001b[38;5;124m open.\u001b[39m\u001b[38;5;124m\"\u001b[39m\n\u001b[1;32m    322\u001b[0m     )\n\u001b[0;32m--> 324\u001b[0m \u001b[38;5;28;01mreturn\u001b[39;00m io_open(file, \u001b[38;5;241m*\u001b[39margs, \u001b[38;5;241m*\u001b[39m\u001b[38;5;241m*\u001b[39mkwargs)\n",
      "\u001b[0;31mFileNotFoundError\u001b[0m: [Errno 2] No such file or directory: 'Halo004/sim_data.bin'"
     ]
    }
   ],
   "source": [
    "with open(\"Halo004/sim_data.bin\", \"rb\") as f:\n",
    "    sim_data = pickle.load(f, encoding='latin1')\n",
    "    \n",
    "with open(\"Halo004/sim_data_16K.bin\", \"rb\") as f:\n",
    "    sim_data = pickle.load(f, encoding='latin1')\n",
    "    \n",
    "with open(\"Halo004/sim_data_running.bin\", \"rb\") as f:\n",
    "    sim_data_running = pickle.load(f, encoding='latin1')"
   ]
  },
  {
   "cell_type": "code",
   "execution_count": null,
   "metadata": {},
   "outputs": [],
   "source": [
    "custom_cmap = mpl.colors.LinearSegmentedColormap.from_list(\"\", [\"cyan\",\"blue\",\"#FF00FF\",\"red\",\"orange\",\"yellow\",\"white\"])"
   ]
  },
  {
   "cell_type": "code",
   "execution_count": null,
   "metadata": {},
   "outputs": [],
   "source": [
    "#custom_cmap = mpl.colors.LinearSegmentedColormap.from_list(\"\", [\"#607474\", \"#152539\",\"black\",\"#098585\",\"#10fcfc\",\"cyan\",\"white\"])"
   ]
  },
  {
   "cell_type": "code",
   "execution_count": null,
   "metadata": {},
   "outputs": [],
   "source": [
    "def velocity_dispersion(velocities):\n",
    "    mean_velocity = np.mean(velocities, axis=0)\n",
    "    velocity_diff = velocities - mean_velocity\n",
    "    velocity_dispersion = np.sqrt(np.sum(velocity_diff**2, axis=1))\n",
    "    return velocity_dispersion"
   ]
  },
  {
   "cell_type": "code",
   "execution_count": null,
   "metadata": {},
   "outputs": [],
   "source": [
    "brightness_density = norm(M.SurfaceDensity(0.1,0.9))\n",
    "    \n",
    "    \n",
    "#trying to normalize my density data to the range [0,1] to then use here\n",
    "\n",
    "#then after normalizing density, do some sort of 0.9 - new normalized value to get \n",
    "\n",
    "    \n",
    "    \n",
    "    \n",
    "# don't think the above code is correct, but in theory I want to create a variable\n",
    "# brightness_density that uses the density, so the lighter colors indicate\n",
    "# higher density areas and the dark areas indicate low density"
   ]
  },
  {
   "cell_type": "code",
   "execution_count": null,
   "metadata": {},
   "outputs": [],
   "source": [
    "BASE_PATH = ''\n",
    "\n",
    "key = 'Halo004'\n",
    "model = 'idm_1e-4GeV'\n",
    "method = 'halfmode'\n",
    "\n",
    "try:\n",
    "    f = pynbody.load(BASE_PATH+'{}/{}_{}_16K/output_{}_{}/snapshot_235'.format(key,model,method,model,method))\n",
    "    halos = readHlist(BASE_PATH+'{}/{}_{}_16K/output_{}_{}/hlist_1.00000.list'.format(key,model,method,model,method))\n",
    "except:\n",
    "    f = pynbody.load(BASE_PATH+'{}_16K/{}/output/snapshot_235'.format(key,model))\n",
    "    halos = readHlist(BASE_PATH+'{}_16K/{}/output/hlist_1.00000.list'.format(key,model))\n",
    "host = sim_data[key][model][method][0][0]\n",
    "f_short = subselect_particles(f,host)\n",
    "\n",
    "rho = f_short[\"rho\"][:]\n",
    "density_cut = (rho > .1)\n",
    "pdata = {}\n",
    "pdata['Masses'] = f_short['mass'][density_cut]\n",
    "pdata['Coordinates'] = f_short['pos'][density_cut]\n",
    "pdata['SmoothingLength'] = np.ones(len(f_short))[density_cut]*20/1000.\n",
    "pdata['Velocities'] = f_short['vel'][density_cut]\n",
    "\n",
    "pos = pdata[\"Coordinates\"]*1000.\n",
    "center = np.median(pos,axis=0)\n",
    "center[0], center[1], center[2] = host['x']*1000, host['y']*1000, host['z']*1000\n",
    "pos -= center\n",
    "radius_cut = np.sum(pos*pos,axis=1) < 0.75*host['rvir']*0.75*host['rvir']\n",
    "pos_new = pos\n",
    "pos_new[:,1] = pos[:,2]\n",
    "pos_new[:,2] = pos[:,1]\n",
    "pos, mass, hsml, v = pos_new[radius_cut], pdata[\"Masses\"][radius_cut], pdata[\"SmoothingLength\"][radius_cut], pdata[\"Velocities\"][radius_cut]\n",
    "\n",
    "M = Meshoid(pos, mass, hsml)\n",
    "rmax = 1.5*host['rvir']\n",
    "\n",
    "res = 1000\n",
    "X = Y = np.linspace(-rmax, rmax, res)\n",
    "X, Y = np.meshgrid(X, Y)\n",
    "sigma_gas_msun_pc2 = M.SurfaceDensity(M.m,center=np.array([0.,0.,0.]),size=1.5*host['rvir'],res=res)*1e4\n",
    "sigma_gas_msun_pc2[np.sqrt(X**2 + Y**2) < 1.5*host['rvir']] = sigma_gas_msun_pc2[np.sqrt(X**2 + Y**2) < 1.5*host['rvir']].clip(min=0.8)\n",
    "\n",
    "fig, ax = plt.subplots(figsize=(15,15))\n",
    "p = ax.pcolormesh(X, Y, sigma_gas_msun_pc2.T, norm=colors.LogNorm(vmin=0.8,vmax=1e3),cmap=custom_cmap)            \n",
    "\n",
    "ax.set_aspect('equal')\n",
    "ax.set_xlabel(\"X (kpc)\")\n",
    "ax.set_ylabel(\"Y (kpc)\")\n",
    "ax.set_title(r'{}_{}'.format(key,model),fontsize=30)\n",
    "\n",
    "ax.axis('off')\n",
    "plt.show()"
   ]
  },
  {
   "cell_type": "code",
   "execution_count": null,
   "metadata": {},
   "outputs": [],
   "source": [
    "# calculate the velocity dispersion\n",
    "vdisp = np.std(v, axis=1)\n",
    "\n",
    "# create the velocity dispersion map\n",
    "vdisp_mesh = M.SurfaceDensity(vdisp, center=np.array([0.,0.,0.]), size=1.5*host['rvir'], res=res)\n",
    "\n",
    "fig, ax = plt.subplots(figsize=(15,15))\n",
    "p = ax.pcolormesh(X, Y, vdisp_mesh.T, alpha=brightness_density, cmap=custom_cmap, norm=colors.LogNorm(vmin=1e3,vmax=5e6)) \n",
    "ax.set_aspect('equal')\n",
    "ax.set_xlabel(\"X (kpc)\")\n",
    "ax.set_ylabel(\"Y (kpc)\")\n",
    "ax.set_title(r'{}_{}'.format(key,model),fontsize=30)\n",
    "ax.axis('off')\n",
    "\n",
    "plt.savefig('velocity_dispersion.png')\n",
    "\n",
    "plt.show()"
   ]
  },
  {
   "cell_type": "code",
   "execution_count": null,
   "metadata": {},
   "outputs": [],
   "source": []
  },
  {
   "cell_type": "code",
   "execution_count": null,
   "metadata": {},
   "outputs": [],
   "source": []
  }
 ],
 "metadata": {
  "kernelspec": {
   "display_name": "Python 3 (ipykernel)",
   "language": "python",
   "name": "python3"
  },
  "language_info": {
   "codemirror_mode": {
    "name": "ipython",
    "version": 3
   },
   "file_extension": ".py",
   "mimetype": "text/x-python",
   "name": "python",
   "nbconvert_exporter": "python",
   "pygments_lexer": "ipython3",
   "version": "3.12.2"
  }
 },
 "nbformat": 4,
 "nbformat_minor": 4
}
